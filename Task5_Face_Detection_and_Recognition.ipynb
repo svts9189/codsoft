{
  "nbformat": 4,
  "nbformat_minor": 0,
  "metadata": {
    "colab": {
      "provenance": [],
      "authorship_tag": "ABX9TyOtehXUt+WlKvxpLeJhZoN+",
      "include_colab_link": true
    },
    "kernelspec": {
      "name": "python3",
      "display_name": "Python 3"
    },
    "language_info": {
      "name": "python"
    }
  },
  "cells": [
    {
      "cell_type": "markdown",
      "metadata": {
        "id": "view-in-github",
        "colab_type": "text"
      },
      "source": [
        "<a href=\"https://colab.research.google.com/github/svts9189/codsoft/blob/main/Task5_Face_Detection_and_Recognition.ipynb\" target=\"_parent\"><img src=\"https://colab.research.google.com/assets/colab-badge.svg\" alt=\"Open In Colab\"/></a>"
      ]
    },
    {
      "cell_type": "code",
      "source": [
        "import cv2"
      ],
      "metadata": {
        "id": "eFpSlUlZo2Mu"
      },
      "execution_count": 2,
      "outputs": []
    },
    {
      "cell_type": "code",
      "source": [
        "cascade_face = cv2.CascadeClassifier('haarcascade_frontalface_default.xml') #Load the cascade"
      ],
      "metadata": {
        "id": "jhwP1F6gpYuY"
      },
      "execution_count": 3,
      "outputs": []
    },
    {
      "cell_type": "code",
      "source": [
        "cap = cv2.VideoCapture(0)"
      ],
      "metadata": {
        "id": "I86Bt0r7pbSJ",
        "colab": {
          "base_uri": "https://localhost:8080/",
          "height": 0
        },
        "outputId": "99ee7a53-012e-45f9-b661-265fc79e0fb8"
      },
      "execution_count": 4,
      "outputs": [
        {
          "output_type": "stream",
          "name": "stdout",
          "text": [
            "< cv2.VideoCapture 0x7a9d940aa610>\n"
          ]
        }
      ]
    },
    {
      "cell_type": "code",
      "source": [
        "import cv2\n",
        "from google.colab.patches import cv2_imshow  # Import cv2_imshow for displaying images in Colab\n",
        "\n",
        "# Initialize video capture\n",
        "cap = cv2.VideoCapture('video (2160).mp4')  # Replace with your video source\n",
        "\n",
        "# Check if video capture was successful\n",
        "if not cap.isOpened():\n",
        "    print(\"Error: Video capture could not be opened.\")\n",
        "    exit()\n",
        "\n",
        "# Load the face cascade classifier\n",
        "cascade_face = cv2.CascadeClassifier('haarcascade_frontalface_default.xml')  # Replace with your cascade file\n",
        "\n",
        "while True:\n",
        "    ret, img = cap.read()\n",
        "\n",
        "    # Check if frame was read successfully\n",
        "    if not ret:\n",
        "        print(\"Error: Frame could not be read.\")\n",
        "        break\n",
        "\n",
        "    # Convert the frame to grayscale\n",
        "    gray = cv2.cvtColor(img, cv2.COLOR_BGR2GRAY)\n",
        "\n",
        "    # Detect faces in the grayscale frame\n",
        "    faces = cascade_face.detectMultiScale(gray, 1.3, 5)\n",
        "\n",
        "    # Rest of your face detection code here...\n",
        "    # Display the frame with detected faces using cv2_imshow\n",
        "    cv2_imshow(img)\n",
        "\n",
        "    # Break the loop if 'q' key is pressed\n",
        "    if cv2.waitKey(1) & 0xFF == ord('q'):\n",
        "        break\n",
        "\n",
        "# Release the video capture and close any open windows\n",
        "cap.release()\n",
        "cv2.destroyAllWindows()\n"
      ],
      "metadata": {
        "colab": {
          "base_uri": "https://localhost:8080/",
          "height": 0
        },
        "id": "94xzptGYpdpn",
        "outputId": "65ea145d-5afc-405f-f7f7-98532d943aa1"
      },
      "execution_count": 5,
      "outputs": [
        {
          "output_type": "stream",
          "name": "stdout",
          "text": [
            "Error: Video capture could not be opened.\n",
            "Error: Frame could not be read.\n"
          ]
        }
      ]
    },
    {
      "cell_type": "code",
      "source": [],
      "metadata": {
        "id": "CF3JHGaPpsLd"
      },
      "execution_count": null,
      "outputs": []
    }
  ]
}