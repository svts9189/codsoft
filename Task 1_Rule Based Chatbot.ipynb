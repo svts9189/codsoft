{
 "cells": [
  {
   "cell_type": "code",
   "execution_count": 1,
   "id": "b5b9d1cc",
   "metadata": {},
   "outputs": [
    {
     "name": "stdout",
     "output_type": "stream",
     "text": [
      "Defaulting to user installation because normal site-packages is not writeable\n",
      "Requirement already satisfied: requests in c:\\programdata\\anaconda3\\lib\\site-packages (2.31.0)\n",
      "Requirement already satisfied: charset-normalizer<4,>=2 in c:\\programdata\\anaconda3\\lib\\site-packages (from requests) (2.0.4)\n",
      "Requirement already satisfied: idna<4,>=2.5 in c:\\programdata\\anaconda3\\lib\\site-packages (from requests) (3.4)\n",
      "Requirement already satisfied: urllib3<3,>=1.21.1 in c:\\programdata\\anaconda3\\lib\\site-packages (from requests) (1.26.16)\n",
      "Requirement already satisfied: certifi>=2017.4.17 in c:\\programdata\\anaconda3\\lib\\site-packages (from requests) (2023.7.22)\n",
      "Note: you may need to restart the kernel to use updated packages.\n"
     ]
    }
   ],
   "source": [
    "pip install requests"
   ]
  },
  {
   "cell_type": "code",
   "execution_count": 2,
   "id": "3ca783ae",
   "metadata": {},
   "outputs": [],
   "source": [
    "import random"
   ]
  },
  {
   "cell_type": "code",
   "execution_count": null,
   "id": "0fbdea46",
   "metadata": {},
   "outputs": [
    {
     "name": "stdout",
     "output_type": "stream",
     "text": [
      "User: Hi\n",
      "Venkat: Hi there! How can I help you today?\n"
     ]
    }
   ],
   "source": [
    "def venkat_chat(user_input):\n",
    "    if user_input in [\"Hi\", \"Hello\", \"Greetings\"]:\n",
    "        return \"Hi there! How can I help you today?\"\n",
    "    elif user_input == \"How are you?\":\n",
    "        return \"I'm doing well, thank you for asking.\"\n",
    "    elif user_input == \"What can you do for me?\":\n",
    "        return \"I can help you with various tasks, like answering your questions, providing information, and generating different creative text formats.\"\n",
    "    elif user_input == \"See you soon\":\n",
    "        return \"See you soon too!\"\n",
    "    else:\n",
    "        return \"Sorry, I don't understand your request.\"\n",
    "\n",
    "def main():\n",
    "    while True:\n",
    "        user_input = input(\"User: \")\n",
    "        venkat_response = venkat_chat(user_input)\n",
    "        print(\"Venkat:\", venkat_response)\n",
    "\n",
    "if __name__ == \"__main__\":\n",
    "    main()\n"
   ]
  },
  {
   "cell_type": "code",
   "execution_count": null,
   "id": "b5f538da",
   "metadata": {},
   "outputs": [],
   "source": []
  }
 ],
 "metadata": {
  "kernelspec": {
   "display_name": "Python 3 (ipykernel)",
   "language": "python",
   "name": "python3"
  },
  "language_info": {
   "codemirror_mode": {
    "name": "ipython",
    "version": 3
   },
   "file_extension": ".py",
   "mimetype": "text/x-python",
   "name": "python",
   "nbconvert_exporter": "python",
   "pygments_lexer": "ipython3",
   "version": "3.11.5"
  }
 },
 "nbformat": 4,
 "nbformat_minor": 5
}
