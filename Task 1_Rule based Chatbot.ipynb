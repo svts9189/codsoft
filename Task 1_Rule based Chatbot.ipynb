{
  "nbformat": 4,
  "nbformat_minor": 0,
  "metadata": {
    "colab": {
      "provenance": [],
      "authorship_tag": "ABX9TyOeauFvA0HZLGU1+wljEWRb",
      "include_colab_link": true
    },
    "kernelspec": {
      "name": "python3",
      "display_name": "Python 3"
    },
    "language_info": {
      "name": "python"
    }
  },
  "cells": [
    {
      "cell_type": "markdown",
      "metadata": {
        "id": "view-in-github",
        "colab_type": "text"
      },
      "source": [
        "<a href=\"https://colab.research.google.com/github/svts9189/codsoft/blob/main/Task%201_Rule%20based%20Chatbot.ipynb\" target=\"_parent\"><img src=\"https://colab.research.google.com/assets/colab-badge.svg\" alt=\"Open In Colab\"/></a>"
      ]
    },
    {
      "cell_type": "code",
      "execution_count": 1,
      "metadata": {
        "colab": {
          "base_uri": "https://localhost:8080/"
        },
        "id": "A9A195yBKjeh",
        "outputId": "099e43c7-ad5f-4b2f-e9f0-31bd071cbf5c"
      },
      "outputs": [
        {
          "output_type": "stream",
          "name": "stdout",
          "text": [
            "Requirement already satisfied: requests in /usr/local/lib/python3.10/dist-packages (2.31.0)\n",
            "Requirement already satisfied: charset-normalizer<4,>=2 in /usr/local/lib/python3.10/dist-packages (from requests) (3.3.2)\n",
            "Requirement already satisfied: idna<4,>=2.5 in /usr/local/lib/python3.10/dist-packages (from requests) (3.4)\n",
            "Requirement already satisfied: urllib3<3,>=1.21.1 in /usr/local/lib/python3.10/dist-packages (from requests) (2.0.7)\n",
            "Requirement already satisfied: certifi>=2017.4.17 in /usr/local/lib/python3.10/dist-packages (from requests) (2023.7.22)\n"
          ]
        }
      ],
      "source": [
        "pip install requests"
      ]
    },
    {
      "cell_type": "code",
      "source": [
        "import random"
      ],
      "metadata": {
        "id": "4tigstrjKnF2"
      },
      "execution_count": 2,
      "outputs": []
    },
    {
      "cell_type": "code",
      "source": [
        "def venkat_chat(user_input):\n",
        "    if user_input in [\"Hi\", \"Hello\", \"Greetings\"]:\n",
        "        return \"Hi there! How can I help you today?\"\n",
        "    elif user_input == \"How are you?\":\n",
        "        return \"I'm doing well, thank you for asking.\"\n",
        "    elif user_input == \"What can you do for me?\":\n",
        "        return \"I can help you with various tasks, like answering your questions, providing information, and generating different creative text formats.\"\n",
        "    elif user_input == \"See you soon\":\n",
        "        return \"See you soon too!\"\n",
        "    else:\n",
        "        return \"Sorry, I don't understand your request.\"\n",
        "\n",
        "def main():\n",
        "    while True:\n",
        "        user_input = input(\"User: \")\n",
        "        venkat_response = venkat_chat(user_input)\n",
        "        print(\"Venkat:\", venkat_response)\n",
        "\n",
        "if __name__ == \"__main__\":\n",
        "    main()\n"
      ],
      "metadata": {
        "colab": {
          "base_uri": "https://localhost:8080/"
        },
        "id": "CZT5c5EcKxOa",
        "outputId": "169c2d63-f5d1-4482-d942-12ec8b92448d"
      },
      "execution_count": null,
      "outputs": [
        {
          "output_type": "stream",
          "name": "stdout",
          "text": [
            "User: Hi\n",
            "Venkat: Hi there! How can I help you today?\n"
          ]
        }
      ]
    },
    {
      "cell_type": "code",
      "source": [],
      "metadata": {
        "id": "AFxepzuDKx5g"
      },
      "execution_count": null,
      "outputs": []
    }
  ]
}